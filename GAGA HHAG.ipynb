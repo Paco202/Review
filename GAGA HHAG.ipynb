{
 "cells": [
  {
   "cell_type": "markdown",
   "metadata": {},
   "source": [
    "\n",
    "# Smarte und interaktive Kurzskripte (smartiS)\n",
    "\n",
    "# GAGA HHAG \n",
    "(Trigonometrie in Verbindung mit Mechanik )\n",
    "\n",
    " \n",
    "[P. Kersten](https://www.hshl.de/personen/prof-dr-ing-peter-kersten), [J. Jeschonowski](https://www.xing.com/profile/Jule_Jeschonowski/cv), [L.P. Kamegne-Kamdem](https://www.linkedin.com/in/leger-paco-kamegne-kamdem-07ba39184/), [N.B. Neathery](https://www.linkedin.com/in/noel-neathery-6371561a6/) und D.M. Weis\n",
    "\n",
    "[Hochschule Hamm-Lippstadt](https://www.hshl.de), Marker Allee 76–78, D-59063 Hamm\n"
   ]
  },
  {
   "cell_type": "markdown",
   "metadata": {},
   "source": [
    "Im allgemeinen geht bezeichnet man die zwei Seiten,  die den rechten Winkel bilden als \n",
    "\n",
    "Katheten. Die Seite, die dem rechten Winkel gegenüberliegt nennt man Hypotenuse."
   ]
  },
  {
   "cell_type": "markdown",
   "metadata": {},
   "source": [
    "<img src=\"Dreieck.jpg\" style=\"width:200px:height:400px\"/>"
   ]
  },
  {
   "cell_type": "markdown",
   "metadata": {},
   "source": [
    "Die Katheten werden auch als An- bzw. Gegenkatheten bezeichnent. Dabei wird immer von einem Winkel im Dreieck \"geschaut\" (in unserem Fall wäre das α ). Wenn die Kathete den Winkle zusammen mit der Hypotenuse bildet, wird sie als Ankathete bezeichnet. Bildet sie den Winkel nicht, so wird sie als Gegenkathete bezeichnet."
   ]
  },
  {
   "cell_type": "markdown",
   "metadata": {},
   "source": [
    " <img src=\"Dreieck1.jpg\" style=\"width:200px:height:400px\"/>"
   ]
  },
  {
   "cell_type": "markdown",
   "metadata": {},
   "source": [
    "Mit den Winkelfunktionen zu rechnen ist eigentlich keine große Kunst. Man sucht den rechten Winkel im Dreieck, benennt die Seiten des Dreiecks und wählt dann die Winkelfunktion anhand der gesuchten Parameter aus. Die eigentliche Kunst beim benützen der Winkelfunktionen ist nur die Auswahl der richtigen Funktion. Um diese sich besser merken zu können gibt es verschiedene Eselsbrücken. Eine davon ist die sogenannte \"Gaga Hühner Hof AG\"."
   ]
  },
  {
   "cell_type": "markdown",
   "metadata": {},
   "source": [
    "<img src=\"Gaga.jpg\" style=\"width:200px:height:400px\"/>"
   ]
  },
  {
   "cell_type": "markdown",
   "metadata": {},
   "source": [
    "## DIY\n",
    "Die Ankathete hat eine Länge von $A$ cm, die Gegenkathete hat eine Länge von $G$ cm  und die Hypotenuse hat eine Länge von  $H $ cm. Wie groß ist der Winkel $α$ ( Alpha )?\n",
    " Gegenkathete, Ankatheten und Hypotenuse können mithilfe der Schieberegler eingestellt werden."
   ]
  },
  {
   "cell_type": "code",
   "execution_count": 1,
   "metadata": {},
   "outputs": [
    {
     "data": {
      "text/html": [
       "<script>$(\"div.input\").hide()</script>"
      ],
      "text/plain": [
       "<IPython.core.display.HTML object>"
      ]
     },
     "metadata": {},
     "output_type": "display_data"
    },
    {
     "data": {
      "application/vnd.jupyter.widget-view+json": {
       "model_id": "07c1cb48408d439b984598e603a8fe23",
       "version_major": 2,
       "version_minor": 0
      },
      "text/plain": [
       "ToggleButton(value=False, description='Quellcode anzeigen')"
      ]
     },
     "metadata": {},
     "output_type": "display_data"
    }
   ],
   "source": [
    "\n",
    "#____import____\n",
    "\n",
    "%matplotlib inline\n",
    "\n",
    "import numpy as np\n",
    "import ipywidgets as widgets\n",
    "\n",
    "from ipywidgets import interact\n",
    "from IPython.display import Markdown, clear_output, display, HTML\n",
    "\n",
    "javascript_funktion = {False: \"hide()\", True: \"show()\"}\n",
    "schaltflaeche  = {False: \"Quellcode anzeigen\", True: \"Quellcode verbergen\"}\n",
    "\n",
    "\n",
    "def quellcode_umschalten(state):\n",
    "\n",
    "    output_string = \"<script>$(\\\"div.input\\\").{}</script>\"\n",
    "    output_args   = (javascript_funktion[state],)\n",
    "    output        = output_string.format(*output_args)\n",
    "    display(HTML(output))\n",
    "\n",
    "\n",
    "def schaltflaeche_aktion(value):\n",
    "\n",
    "    state = value.new\n",
    "    quellcode_umschalten(state)\n",
    "    value.owner.description = schaltflaeche[state]\n",
    "\n",
    "\n",
    "state = False\n",
    "quellcode_umschalten(state)\n",
    "\n",
    "button = widgets.ToggleButton(state, description = schaltflaeche[state])\n",
    "button.observe(schaltflaeche_aktion, \"value\")\n",
    "\n",
    "display(button)"
   ]
  },
  {
   "cell_type": "code",
   "execution_count": 2,
   "metadata": {},
   "outputs": [],
   "source": [
    "#____import____\n",
    "\n",
    "%matplotlib inline\n",
    "\n",
    "import numpy as np\n",
    "import matplotlib.pyplot as plt\n",
    "import ipywidgets as widgets\n",
    "import matplotlib.animation as animation\n",
    "import math as m\n",
    "\n",
    "from ipywidgets import interact\n",
    "from IPython.display import Markdown, clear_output, display\n",
    "from sympy import symbols\n",
    "from matplotlib.pyplot import figure\n",
    "\n",
    "\n",
    "import ipywidgets as widgets\n",
    "from ipywidgets import Box, HBox, VBox, Layout, Image\n",
    "from ipycanvas import MultiCanvas, Canvas, hold_canvas"
   ]
  },
  {
   "cell_type": "code",
   "execution_count": 3,
   "metadata": {},
   "outputs": [
    {
     "data": {
      "application/vnd.jupyter.widget-view+json": {
       "model_id": "0edfa1cc10e4468f86150126e199a244",
       "version_major": 2,
       "version_minor": 0
      },
      "text/plain": [
       "interactive(children=(ToggleButtons(description='trigo:', options=('Sinus', 'Cosinus', 'Tangente', 'Cotangente…"
      ]
     },
     "metadata": {},
     "output_type": "display_data"
    },
    {
     "data": {
      "text/plain": [
       "<function __main__.fonc(trigo, Ankatheten, Gegenkatheten, Hypothenuse)>"
      ]
     },
     "execution_count": 3,
     "metadata": {},
     "output_type": "execute_result"
    }
   ],
   "source": [
    "\n",
    "Buttons = widgets.ToggleButtons(\n",
    "                                options=['Sinus', 'Cosinus', 'Tangente', 'Cotangente'],\n",
    "                                description='trigo:',\n",
    "                                disabled=False,\n",
    "                                button_style='',\n",
    "                                tooltips=['Description of slow', 'Description of regular', 'Description of fast'],\n",
    "                                )\n",
    "\n",
    "Paco = widgets.HTMLMath(\n",
    "                  value=r\"Some math and <i>HTML</i>: \\(Ankatheten^2\\) and $$\\frac{Ankatheten+1}{Ankatheten-1}$$\",\n",
    "                  description='Some HTML',\n",
    "                 )\n",
    "\n",
    "Ankatheten = widgets.FloatSlider(min=1.0, max=50.0, step=0.1, value=1.0, description='Ankatheten in m')\n",
    "Gegenkatheten = widgets.FloatSlider(min=1.0, max=100.0, step=0.1, value=1.0, description='Gegenkatheten in m')\n",
    "Hypothenuse = widgets.FloatSlider(min=1.0, max=100.0, step=0.1, value=1.0, description='Hypothenuse in m')\n",
    "\n",
    "\n",
    "#Hypothenuse = widgets.Play(\n",
    " #   value=5,\n",
    "  #  min=1,\n",
    "   # max=100,\n",
    "    #step=1,\n",
    "    #interval=500,\n",
    "    #description=\"Press play\",\n",
    "    #disabled=False\n",
    "#)\n",
    "#slider = widgets.IntSlider()\n",
    "#widgets.jslink((Hypothenuse, 'value'), (slider, 'value'))\n",
    "#widgets.HBox([Hypothenuse, slider])\n",
    "\n",
    "\n",
    "def fonc (trigo, Ankatheten, Gegenkatheten, Hypothenuse):\n",
    "    if trigo == 'Sinus':\n",
    "        I = np.arcsin(Gegenkatheten/Hypothenuse)\n",
    "        print(f'sin(a) = G/H = {I} Grad')\n",
    "        \n",
    "    elif trigo == 'Cosinus':\n",
    "        I = np.arccos(Ankatheten/Hypothenuse) \n",
    "        print(f' cos(a) = A/H = {I} Grad')\n",
    "        \n",
    "    elif trigo == 'Tangente':\n",
    "        I = np.arctan(Gegenkatheten/Ankatheten)\n",
    "        print(f'tan(a) = G/A {I} Grad')\n",
    "        \n",
    "    else:\n",
    "        I = Ankatheten/Gegenkatheten\n",
    "        print(f'cot(a) = A/G = {I} Grad')\n",
    "        \n",
    "    return I \n",
    "\n",
    "\n",
    "    \n",
    "\n",
    "widgets.interact(fonc, trigo = Buttons, \n",
    "                 Gegenkatheten = Gegenkatheten, Ankatheten = Ankatheten, Hypothenuse = Hypothenuse)\n",
    "\n",
    "\n"
   ]
  },
  {
   "cell_type": "code",
   "execution_count": 4,
   "metadata": {},
   "outputs": [
    {
     "data": {
      "application/vnd.jupyter.widget-view+json": {
       "model_id": "843334e538da4785ae35f161ea5932cf",
       "version_major": 2,
       "version_minor": 0
      },
      "text/plain": [
       "interactive(children=(ToggleButtons(description='trigo:', options=('Sinus', 'Cosinus', 'Tangente', 'Cotangente…"
      ]
     },
     "metadata": {},
     "output_type": "display_data"
    },
    {
     "data": {
      "text/plain": [
       "<function __main__.fonc(trigo, Ankatheten, Gegenkatheten, Hypothenuse)>"
      ]
     },
     "execution_count": 4,
     "metadata": {},
     "output_type": "execute_result"
    }
   ],
   "source": [
    "Buttons = widgets.ToggleButtons(\n",
    "                                options=['Sinus', 'Cosinus', 'Tangente', 'Cotangente'],\n",
    "                                description='trigo:',\n",
    "                                disabled=False,\n",
    "                                button_style='', # 'success', 'info', 'warning', 'danger' or ''\n",
    "                                tooltips=['Description of slow', 'Description of regular', 'Description of fast'],\n",
    "                                )\n",
    "\n",
    "Paco = widgets.HTMLMath(\n",
    "                  value=r\"Some math and <i>HTML</i>: \\(Ankatheten^2\\) and $$\\frac{Ankatheten+1}{Ankatheten-1}$$\",\n",
    "                  description='Some HTML',\n",
    "                 )\n",
    "\n",
    "Ankatheten = widgets.FloatSlider(min=1.0, max=100.0, step=0.1, value=1.0, description='Ankatheten in m')\n",
    "Gegenkatheten = widgets.FloatSlider(min=1.0, max=1000.0, step=0.1, value=30.0, description='Gegenkatheten in m')\n",
    "Hypothenuse = widgets.FloatSlider(min=1.0, max=100.0, step=0.1, value=10.0, description='Hypothenuse in m')\n",
    "\n",
    "\n",
    "#Hypothenuse = widgets.Play(\n",
    "#    value=5.0,\n",
    "##    min=1.0,\n",
    " #   max=100.0,\n",
    " #   step=1.0,\n",
    " #   interval=500.0,\n",
    "  #  description=\"Press play\",\n",
    " #   disabled=False\n",
    "#)\n",
    "#slider = widgets.IntSlider()\n",
    "#widgets.jslink((Hypothenuse, 'value'), (slider, 'value'))\n",
    "#widgets.HBox([Hypothenuse, slider])\n",
    "\n",
    "\n",
    "def fonc (trigo, Ankatheten, Gegenkatheten, Hypothenuse):\n",
    "    if trigo == 'Sinus':\n",
    "        I = Gegenkatheten/Hypothenuse\n",
    "        print(f'sin(a) = G/H = {I} ')\n",
    "        \n",
    "    elif trigo == 'Cosinus':\n",
    "        I = Ankatheten/Hypothenuse \n",
    "        print(f' cos(a) = A/H = {I}')\n",
    "        \n",
    "    elif trigo == 'Tangente':\n",
    "        I = Gegenkatheten/Ankatheten\n",
    "        print(f'tan(a) = G/A {I}')\n",
    "        \n",
    "    else:\n",
    "        I = Ankatheten/Gegenkatheten\n",
    "        print(f'cot(a) = A/G = {I}')\n",
    "        \n",
    "    \n",
    "\n",
    "widgets.interact(fonc, trigo = Buttons, \n",
    "                 Gegenkatheten = Gegenkatheten, Ankatheten = Ankatheten, Hypothenuse = Hypothenuse)\n",
    "\n",
    "#def plot_sin(Ankatheten,Gegenkatheten,Hypothenuse):\n",
    " #  # x = np.linspace(0, 2*np.pi,)\n",
    " #   x = np.arange(-0,1*np.pi,0.05)\n",
    " #   y = np.sin(Ankatheten*(x-Hypothenuse))*Gegenkatheten-Hypothenuse\n",
    " #   z = np.sin(x)\n",
    " #   p = np.sin(Ankatheten*(x+Hypothenuse))*Gegenkatheten+Hypothenuse\n",
    "   # return x, y, z\n",
    "\n",
    " #   plt.plot(x, y,x,z,x,p)\n",
    " #   plt.grid()\n",
    " #   plt.xlabel('x values from 0 to 2π')  # string must be enclosed with quotes '  '\n",
    " #   plt.ylabel('a*sin(b(x-c)) - d, sin(x) and a*sin(b(x+c)) + d')\n",
    " #   plt.title('Plot of a*sin(b(x-c)) - d, sin(x) and a*sin(b(x+c)) + d from 0 to 2π')\n",
    " #   plt.legend(['a*sin(b(x-c)) - d', 'sin(x)','asin(b(x+c)) + d'])      # legend entries as seperate strings in a list\n",
    "    \n",
    "#widgets.interact(plot_sin, Ankatheten = Ankatheten, Gegenkatheten = Gegenkatheten, Hypothenuse = Hypothenuse)\n",
    "\n",
    "#interact(plot_func, a = widgets.FloatSlider(value=7.5,min=0.1, max=10.0, step=0.5),\n",
    "  #      b = widgets.FloatSlider(value=7.5,min=1, max=5.0, step=0.5),\n",
    "   #     c = widgets.FloatSlider(value=7.5,min=1, max=5.0, step=1),\n",
    "    #    d = widgets.FloatSlider(value=7.5,min=0.01, max=5.0, step=0.5),)\n",
    "\n",
    "    \n",
    "    \n",
    "#def plot_tan(Ankatheten,Gegenkatheten,Hypothenuse):\n",
    "#   # x = np.linspace(0, 2*np.pi,)\n",
    " #   x = np.arange(0,1*np.pi,0.05)\n",
    "#    y = np.tan(Ankatheten*(x-Hypothenuse))*Gegenkatheten-Hypothenuse\n",
    "  #  z = np.tan(x)\n",
    " #   p = np.arctan(Ankatheten*(x+Hypothenuse))*Gegenkatheten+Hypothenuse\n",
    " #   \n",
    "  #  plt.plot(x, y,x,z,x,p)\n",
    "  #  plt.grid()\n",
    " #   plt.xlabel('x values from 0 to 2π')  # string must be enclosed with quotes '  '\n",
    "  #  plt.ylabel('a*tan(b(x-c)) - d, tan(x) and a*arctan(b(x+c)) + d')\n",
    "  #  plt.title('Plot of a*tan(b(x-c)) - d, tan(x) and a*arctan(b(x+c)) + d from 0 to 2π')\n",
    "  #  plt.legend(['a*tan(b(x-c)) - d', 'tan(x)','a*arctan(b(x+c)) + d'])      # legend entries as seperate strings in a list\n",
    "\n",
    "#widgets.interact(plot_tan, Ankatheten = Ankatheten, Gegenkatheten = Gegenkatheten, Hypothenuse = Hypothenuse)#"
   ]
  },
  {
   "cell_type": "markdown",
   "metadata": {},
   "source": [
    "## Danksagung\n",
    "\n",
    "\n",
    "Dieses digitale Lehr-/Lernmaterial wurde im Rahmen des Programms [Fellowships für Innovationen in der digitalen Hochschullehre](https://www.stifterverband.org/digital-lehrfellows-nrw/2019/temmen_kersten) des Ministeriums für Kultur und Wissenschaft des Landes Nordrhein-Westfalen und des Stifterverbandes entwickelt. \n",
    "\n",
    "Die Autoren stellen dieses digitale Lehr-/Lernmateriales als Open Educational Ressources unter der Lizenz [Creative Commons Attribution-ShareAlike 4.0 International License (CC BY-SA 4.0)](https://creativecommons.org/licenses/by-sa/4.0/) zur Verfügung.\n",
    "\n",
    "\n",
    "    \n",
    "<img align=\"left\" src=\"https://licensebuttons.net/l/by-sa/3.0/88x31.png\">"
   ]
  },
  {
   "cell_type": "code",
   "execution_count": null,
   "metadata": {},
   "outputs": [],
   "source": []
  },
  {
   "cell_type": "code",
   "execution_count": null,
   "metadata": {},
   "outputs": [],
   "source": []
  }
 ],
 "metadata": {
  "kernelspec": {
   "display_name": "Python 3",
   "language": "python",
   "name": "python3"
  },
  "language_info": {
   "codemirror_mode": {
    "name": "ipython",
    "version": 3
   },
   "file_extension": ".py",
   "mimetype": "text/x-python",
   "name": "python",
   "nbconvert_exporter": "python",
   "pygments_lexer": "ipython3",
   "version": "3.8.3"
  }
 },
 "nbformat": 4,
 "nbformat_minor": 4
}
